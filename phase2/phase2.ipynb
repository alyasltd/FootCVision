{
 "cells": [
  {
   "cell_type": "markdown",
   "metadata": {},
   "source": [
    "### **Phase 2: Ball Tracking and Player Statistics with DEEPSORT** 🎥⚽\n"
   ]
  },
  {
   "cell_type": "markdown",
   "metadata": {},
   "source": [
    "1. **Player & Ball Tracking** ⚽"
   ]
  },
  {
   "cell_type": "code",
   "execution_count": null,
   "metadata": {},
   "outputs": [
    {
     "name": "stderr",
     "output_type": "stream",
     "text": [
      "2025-01-05 22:48:28.747 python[3884:126565] +[IMKClient subclass]: chose IMKClient_Modern\n",
      "2025-01-05 22:48:28.747 python[3884:126565] +[IMKInputSession subclass]: chose IMKInputSession_Modern\n"
     ]
    }
   ],
   "source": [
    "import cv2\n",
    "import torch\n",
    "from ultralytics import YOLO\n",
    "from deep_sort_realtime.deepsort_tracker import DeepSort\n",
    "\n",
    "# Load YOLO model\n",
    "model = YOLO(\"/Users/alyazouzou/Desktop/CV_Football/FootCVision2/phase1/runs/detect/train/weights/best.pt\")\n",
    "\n",
    "# Initialize Deep SORT\n",
    "tracker = DeepSort(max_age=30, n_init=3, nn_budget=100)\n",
    "\n",
    "# Video paths\n",
    "input_video_path = \"/Users/alyazouzou/Desktop/CV_Football/vids/short.mov\"\n",
    "output_video_path = \"/Users/alyazouzou/Desktop/CV_Football/vids/demo_tracked.mov\"\n",
    "\n",
    "# Open video\n",
    "cap = cv2.VideoCapture(input_video_path)\n",
    "fps = int(cap.get(cv2.CAP_PROP_FPS))\n",
    "width = int(cap.get(cv2.CAP_PROP_FRAME_WIDTH))\n",
    "height = int(cap.get(cv2.CAP_PROP_FRAME_HEIGHT))\n",
    "\n",
    "# Define video writer\n",
    "out = cv2.VideoWriter(output_video_path, cv2.VideoWriter_fourcc(*\"mp4v\"), fps, (width, height))\n",
    "\n",
    "while cap.isOpened():\n",
    "    ret, frame = cap.read()\n",
    "    if not ret:\n",
    "        break\n",
    "\n",
    "    # Perform object detection with YOLO\n",
    "    results = model(frame, verbose=False)[0]\n",
    "    \n",
    "    # Extract bounding boxes, confidences, and class IDs\n",
    "    detections = []\n",
    "    for box in results.boxes:\n",
    "        x1, y1, x2, y2 = box.xyxy.numpy().flatten()\n",
    "        conf = box.conf.numpy().item()\n",
    "        class_id = int(box.cls.numpy().item())\n",
    "        detections.append([[x1, y1, x2 - x1, y2 - y1], conf, class_id])\n",
    "\n",
    "    # Perform tracking with Deep SORT\n",
    "    tracks = tracker.update_tracks(detections, frame=frame)\n",
    "\n",
    "    # Draw tracked objects on the frame\n",
    "    for track in tracks:\n",
    "        if not track.is_confirmed():\n",
    "            continue\n",
    "\n",
    "        track_id = track.track_id\n",
    "        ltrb = track.to_ltrb()  # Get bounding box (left, top, right, bottom)\n",
    "        x1, y1, x2, y2 = map(int, ltrb)\n",
    "\n",
    "        # Draw bounding box and ID\n",
    "        cv2.rectangle(frame, (x1, y1), (x2, y2), (0, 255, 0), 2)\n",
    "        cv2.putText(frame, f\"ID: {track_id}\", (x1, y1 - 10), cv2.FONT_HERSHEY_SIMPLEX, 0.5, (255, 255, 255), 2)\n",
    "        cv2.waitKey(int(1000 / fps))  # Adjust frame delay to match FPS\n",
    "\n",
    "    # Write the frame to the output video\n",
    "    out.write(frame)\n",
    "\n",
    "    # Display the frame (optional)\n",
    "    cv2.imshow(\"Tracking\", frame)\n",
    "    if cv2.waitKey(1) & 0xFF == ord(\"q\"):\n",
    "        break\n",
    "\n",
    "# Release resources\n",
    "cap.release()\n",
    "out.release()\n",
    "cv2.destroyAllWindows()"
   ]
  },
  {
   "cell_type": "markdown",
   "metadata": {},
   "source": [
    "2. **Statistics** 📈\n",
    "   - Extract metrics for each player, such as:\n",
    "     - Distance covered.\n",
    "     - Ball possession time.\n",
    "     - Speed and acceleration."
   ]
  }
 ],
 "metadata": {
  "kernelspec": {
   "display_name": "footcvision",
   "language": "python",
   "name": "python3"
  },
  "language_info": {
   "codemirror_mode": {
    "name": "ipython",
    "version": 3
   },
   "file_extension": ".py",
   "mimetype": "text/x-python",
   "name": "python",
   "nbconvert_exporter": "python",
   "pygments_lexer": "ipython3",
   "version": "3.9.21"
  }
 },
 "nbformat": 4,
 "nbformat_minor": 2
}
